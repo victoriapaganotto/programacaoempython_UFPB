{
  "nbformat": 4,
  "nbformat_minor": 0,
  "metadata": {
    "colab": {
      "name": "Untitled2.ipynb",
      "provenance": [],
      "authorship_tag": "ABX9TyOdiGB5R1e5xv5xGqNrLgq1",
      "include_colab_link": true
    },
    "kernelspec": {
      "name": "python3",
      "display_name": "Python 3"
    },
    "language_info": {
      "name": "python"
    }
  },
  "cells": [
    {
      "cell_type": "markdown",
      "metadata": {
        "id": "view-in-github",
        "colab_type": "text"
      },
      "source": [
        "<a href=\"https://colab.research.google.com/github/victoriapaganotto/programacaoempython_UFPB/blob/main/Primeira_Atividade.ipynb\" target=\"_parent\"><img src=\"https://colab.research.google.com/assets/colab-badge.svg\" alt=\"Open In Colab\"/></a>"
      ]
    },
    {
      "cell_type": "markdown",
      "metadata": {
        "id": "IsPMg1X0tULp"
      },
      "source": [
        "## **Praticando programação**\n",
        "\n",
        "### Resolvendo equações de 2º grau\n",
        "\n",
        "**Atividade proposta:** elaborar um código para resolver cinco equações de 2º grau $(ax² + bx + c = 0)$. É importante que o coeficientes da equação estejam armazenados em uma lista.\n",
        "\n",
        "![](https://media.giphy.com/media/xT5LMtserjL4RtFZQc/giphy.gif)\n",
        "\n"
      ]
    },
    {
      "cell_type": "code",
      "metadata": {
        "id": "qRTsy7HpsG72"
      },
      "source": [
        "import math\n",
        "\n",
        "# Função da Equação de 2º Grau\n",
        "def raizes_equação2G (a,b,c):          \n",
        "    delta = (b**2) - (4*a*c)\n",
        "    print('Delta =', delta)\n",
        "    \n",
        "    if (delta > 0):                       \n",
        "        x1 = round(((- b + math.sqrt(delta))/(2*a)),2)\n",
        "        x2 = round(((- b - math.sqrt(delta))/(2*a)),2)           \n",
        "        return('As raízes são: x1={} e x2={}'.format(x1,x2))  \n",
        "    elif (delta == 0): \n",
        "        x1 = round(-b/(2*a),2)         \n",
        "        x2 = x1\n",
        "        return ('Raízes iguais, x1 = x2 = {} '.format(x1))\n",
        "    else:\n",
        "        return('A equação não possui raízes reais')"
      ],
      "execution_count": 6,
      "outputs": []
    },
    {
      "cell_type": "code",
      "metadata": {
        "colab": {
          "base_uri": "https://localhost:8080/"
        },
        "id": "7k31uwbesYSM",
        "outputId": "e5bcd354-fb84-4b11-aa33-8e27fd5b2c0a"
      },
      "source": [
        "\n",
        "coef_var = [[1,10,20],[1,15,20],[100,10,20],[2,10,25],[1,101,30]]   \n",
        "       \n",
        "resultados = []         # Criação de uma lista vazia para armazenar os resultados de cada loop for.\n",
        "for a,b,c in coef_var:  \n",
        "    resultados.append(raizes_equação2G(a,b,c))  # Adicionando na variável resultados, cada resultado da resolução da equação\n",
        "print(resultados)    "
      ],
      "execution_count": 7,
      "outputs": [
        {
          "output_type": "stream",
          "text": [
            "Delta = 20\n",
            "Delta = 145\n",
            "Delta = -7900\n",
            "Delta = -100\n",
            "Delta = 10081\n",
            "['As raízes são: x1=-2.76 e x2=-7.24', 'As raízes são: x1=-1.48 e x2=-13.52', 'A equação não possui raízes reais', 'A equação não possui raízes reais', 'As raízes são: x1=-0.3 e x2=-100.7']\n"
          ],
          "name": "stdout"
        }
      ]
    }
  ]
}